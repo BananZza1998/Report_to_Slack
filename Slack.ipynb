{
 "cells": [
  {
   "cell_type": "markdown",
   "id": "aa3d8a1e",
   "metadata": {},
   "source": [
    "# Here is how you can communicate with slack through requests package"
   ]
  },
  {
   "cell_type": "code",
   "execution_count": 1,
   "id": "7f0e32b3",
   "metadata": {},
   "outputs": [],
   "source": [
    "import requests as re"
   ]
  },
  {
   "cell_type": "code",
   "execution_count": 3,
   "id": "3984ac91",
   "metadata": {},
   "outputs": [],
   "source": [
    "slack_token = \"INSERT HERE SLACK TOKEN OF UR SLACK GROUP\"\n",
    "slack_channel = \"INSERT HERE SLACK CHANNEL ID\"\n",
    "\n",
    "# FUNCTION TO SEND MESSAGES IN SLACK\n",
    "def send_message_slack(text, slack_token, slack_channel):\n",
    "    data = {\n",
    "    'token': slack_token,\n",
    "    'channel': slack_channel,\n",
    "    'as_user': True,\n",
    "    'text': text}\n",
    "    re.post(url='https://slack.com/api/chat.postMessage',\n",
    "              data=data)\n",
    "    \n",
    "# FUNCTION TO SEND MESSAGES IN SLACK\n",
    "def send_file(slack_channels, file, slack_token = slack_token):\n",
    "    with open(file, 'rb') as f:\n",
    "        payload={\"filename\": file,\n",
    "                 \"token\": slack_token,\n",
    "                 \"channels\": slack_channel }\n",
    "        re.post(\"https://slack.com/api/files.upload\", params=payload, files={'file': f})"
   ]
  }
 ],
 "metadata": {
  "kernelspec": {
   "display_name": "Python 3 (ipykernel)",
   "language": "python",
   "name": "python3"
  },
  "language_info": {
   "codemirror_mode": {
    "name": "ipython",
    "version": 3
   },
   "file_extension": ".py",
   "mimetype": "text/x-python",
   "name": "python",
   "nbconvert_exporter": "python",
   "pygments_lexer": "ipython3",
   "version": "3.8.5"
  }
 },
 "nbformat": 4,
 "nbformat_minor": 5
}
